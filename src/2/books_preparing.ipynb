{
 "cells": [
  {
   "cell_type": "code",
   "execution_count": 162,
   "metadata": {},
   "outputs": [],
   "source": [
    "import pandas as pd\n",
    "import re\n",
    "import numpy\n",
    "import pypika"
   ]
  },
  {
   "cell_type": "code",
   "execution_count": 16,
   "metadata": {},
   "outputs": [],
   "source": [
    "flatten = lambda l: [item for sublist in l for item in sublist]"
   ]
  },
  {
   "cell_type": "code",
   "execution_count": 68,
   "metadata": {},
   "outputs": [],
   "source": [
    "def split_by(text, by = [\",\",\" & \",\" - \", \"&amp;\"]):\n",
    "    text = [text]\n",
    "    for char in by:\n",
    "        text = flatten(map(lambda x: x.split(char), text))\n",
    "    text = list(map(lambda x: x.strip(), text))\n",
    "    text = list(filter(lambda x: x != \"\", text))\n",
    "    return text"
   ]
  },
  {
   "cell_type": "code",
   "execution_count": 113,
   "metadata": {},
   "outputs": [],
   "source": [
    "def extract_whd(text):\n",
    "    if pd.isna(text):\n",
    "        return text\n",
    "    values = re.findall(\"\\d+\\.\\d+\", text)\n",
    "    return list(map(float, values))"
   ]
  },
  {
   "cell_type": "code",
   "execution_count": 146,
   "metadata": {},
   "outputs": [],
   "source": [
    "def extract_float(text):\n",
    "    if pd.isna(text):\n",
    "        return text\n",
    "    value = re.findall(\"\\d+[\\.\\d+]*\", text)\n",
    "    return float(value[0])"
   ]
  },
  {
   "cell_type": "code",
   "execution_count": 177,
   "metadata": {},
   "outputs": [],
   "source": [
    "books = pd.read_csv(\"../../d/books.csv\")"
   ]
  },
  {
   "cell_type": "code",
   "execution_count": 178,
   "metadata": {},
   "outputs": [],
   "source": [
    "books['authors_arr'] = books['authors'].apply(lambda x: split_by(x))\n",
    "authors = flatten(books['authors_arr'].values)\n",
    "authors = list(map(lambda x: x.strip(), authors))\n",
    "authors = list(set(authors))"
   ]
  },
  {
   "cell_type": "code",
   "execution_count": 179,
   "metadata": {},
   "outputs": [],
   "source": [
    "books['authors_ids'] = books['authors_arr'].apply(lambda arr: [authors.index(author.strip()) for author in arr])"
   ]
  },
  {
   "cell_type": "code",
   "execution_count": 180,
   "metadata": {},
   "outputs": [],
   "source": [
    "publishers = set(books['publisher'].values)\n",
    "publishers = list(publishers)\n",
    "\n",
    "books['publisher_id'] = books['publisher'].apply(lambda p: publishers.index(p))"
   ]
  },
  {
   "cell_type": "code",
   "execution_count": 181,
   "metadata": {},
   "outputs": [],
   "source": [
    "titles = set(books['title'].values)\n",
    "titles = list(titles)\n",
    "\n",
    "books['book_id'] = books['title'].apply(lambda p: titles.index(p))"
   ]
  },
  {
   "cell_type": "code",
   "execution_count": 182,
   "metadata": {},
   "outputs": [],
   "source": [
    "books['subjects_arr'] = books['subjects'].fillna(\"\").apply(lambda x: split_by(x))\n",
    "\n",
    "subjects = list(books['subjects_arr'].values)\n",
    "subjects = flatten(subjects)\n",
    "subjects = list(map(lambda x: x.strip(), subjects))\n",
    "subjects = list(set(subjects))"
   ]
  },
  {
   "cell_type": "code",
   "execution_count": 183,
   "metadata": {},
   "outputs": [],
   "source": [
    "books['subjects_ids'] = books['subjects_arr'].apply(lambda arr: [subjects.index(subject.strip()) for subject in arr])"
   ]
  },
  {
   "cell_type": "code",
   "execution_count": 184,
   "metadata": {},
   "outputs": [],
   "source": [
    "whd = books.dimensions.apply(extract_whd)\n",
    "books['width'] = whd.apply(lambda x: x[0] if type(x) == list else x)\n",
    "books['height'] = whd.apply(lambda x: x[1] if type(x) == list else x)\n",
    "books['depth'] = whd.apply(lambda x: x[2] if type(x) == list else x)"
   ]
  },
  {
   "cell_type": "code",
   "execution_count": 185,
   "metadata": {},
   "outputs": [],
   "source": [
    "books['lexile'] = books['lexile'].apply(extract_float)\n",
    "books['price'] = books['price'].apply(extract_float)"
   ]
  },
  {
   "cell_type": "code",
   "execution_count": 186,
   "metadata": {},
   "outputs": [],
   "source": [
    "books = books[['id', 'book_id', 'isbn13', 'isbn10', 'price', 'pubyear', 'lexile', 'pages',\n",
    "       'authors_ids', 'publisher_id', 'subjects_ids', 'width', 'height', 'depth']]"
   ]
  },
  {
   "cell_type": "code",
   "execution_count": 187,
   "metadata": {},
   "outputs": [
    {
     "data": {
      "text/html": [
       "<div>\n",
       "<style scoped>\n",
       "    .dataframe tbody tr th:only-of-type {\n",
       "        vertical-align: middle;\n",
       "    }\n",
       "\n",
       "    .dataframe tbody tr th {\n",
       "        vertical-align: top;\n",
       "    }\n",
       "\n",
       "    .dataframe thead th {\n",
       "        text-align: right;\n",
       "    }\n",
       "</style>\n",
       "<table border=\"1\" class=\"dataframe\">\n",
       "  <thead>\n",
       "    <tr style=\"text-align: right;\">\n",
       "      <th></th>\n",
       "      <th>id</th>\n",
       "      <th>book_id</th>\n",
       "      <th>isbn13</th>\n",
       "      <th>isbn10</th>\n",
       "      <th>price</th>\n",
       "      <th>pubyear</th>\n",
       "      <th>lexile</th>\n",
       "      <th>pages</th>\n",
       "      <th>authors_ids</th>\n",
       "      <th>publisher_id</th>\n",
       "      <th>subjects_ids</th>\n",
       "      <th>width</th>\n",
       "      <th>height</th>\n",
       "      <th>depth</th>\n",
       "    </tr>\n",
       "  </thead>\n",
       "  <tbody>\n",
       "    <tr>\n",
       "      <th>0</th>\n",
       "      <td>7</td>\n",
       "      <td>151</td>\n",
       "      <td>9781592211517</td>\n",
       "      <td>1592211518</td>\n",
       "      <td>23.95</td>\n",
       "      <td>2006</td>\n",
       "      <td>NaN</td>\n",
       "      <td>146.0</td>\n",
       "      <td>[118, 577]</td>\n",
       "      <td>116</td>\n",
       "      <td>[97, 269, 339, 443, 296, 82, 68, 30, 372, 204,...</td>\n",
       "      <td>8.30</td>\n",
       "      <td>5.30</td>\n",
       "      <td>0.8</td>\n",
       "    </tr>\n",
       "    <tr>\n",
       "      <th>1</th>\n",
       "      <td>474</td>\n",
       "      <td>439</td>\n",
       "      <td>9780945575931</td>\n",
       "      <td>945575939</td>\n",
       "      <td>1.99</td>\n",
       "      <td>1992</td>\n",
       "      <td>NaN</td>\n",
       "      <td>128.0</td>\n",
       "      <td>[603, 745, 603]</td>\n",
       "      <td>121</td>\n",
       "      <td>[290, 416, 59]</td>\n",
       "      <td>8.36</td>\n",
       "      <td>8.28</td>\n",
       "      <td>0.5</td>\n",
       "    </tr>\n",
       "    <tr>\n",
       "      <th>2</th>\n",
       "      <td>424</td>\n",
       "      <td>247</td>\n",
       "      <td>9781555838270</td>\n",
       "      <td>1555838278</td>\n",
       "      <td>1.99</td>\n",
       "      <td>2004</td>\n",
       "      <td>NaN</td>\n",
       "      <td>368.0</td>\n",
       "      <td>[541]</td>\n",
       "      <td>79</td>\n",
       "      <td>[317, 59, 474, 50, 311, 189]</td>\n",
       "      <td>5.40</td>\n",
       "      <td>8.50</td>\n",
       "      <td>0.8</td>\n",
       "    </tr>\n",
       "    <tr>\n",
       "      <th>3</th>\n",
       "      <td>236</td>\n",
       "      <td>243</td>\n",
       "      <td>9781555839970</td>\n",
       "      <td>1555839975</td>\n",
       "      <td>1.99</td>\n",
       "      <td>2007</td>\n",
       "      <td>NaN</td>\n",
       "      <td>288.0</td>\n",
       "      <td>[538, 67]</td>\n",
       "      <td>79</td>\n",
       "      <td>[59, 474, 50, 311]</td>\n",
       "      <td>6.00</td>\n",
       "      <td>9.00</td>\n",
       "      <td>0.7</td>\n",
       "    </tr>\n",
       "    <tr>\n",
       "      <th>4</th>\n",
       "      <td>229</td>\n",
       "      <td>370</td>\n",
       "      <td>9781555837471</td>\n",
       "      <td>1555837476</td>\n",
       "      <td>1.99</td>\n",
       "      <td>2004</td>\n",
       "      <td>NaN</td>\n",
       "      <td>264.0</td>\n",
       "      <td>[5, 428]</td>\n",
       "      <td>79</td>\n",
       "      <td>[279, 133, 430, 254, 50, 72, 50, 425, 327]</td>\n",
       "      <td>5.40</td>\n",
       "      <td>8.50</td>\n",
       "      <td>0.6</td>\n",
       "    </tr>\n",
       "  </tbody>\n",
       "</table>\n",
       "</div>"
      ],
      "text/plain": [
       "    id  book_id         isbn13      isbn10  price  pubyear  lexile  pages  \\\n",
       "0    7      151  9781592211517  1592211518  23.95     2006     NaN  146.0   \n",
       "1  474      439  9780945575931   945575939   1.99     1992     NaN  128.0   \n",
       "2  424      247  9781555838270  1555838278   1.99     2004     NaN  368.0   \n",
       "3  236      243  9781555839970  1555839975   1.99     2007     NaN  288.0   \n",
       "4  229      370  9781555837471  1555837476   1.99     2004     NaN  264.0   \n",
       "\n",
       "       authors_ids  publisher_id  \\\n",
       "0       [118, 577]           116   \n",
       "1  [603, 745, 603]           121   \n",
       "2            [541]            79   \n",
       "3        [538, 67]            79   \n",
       "4         [5, 428]            79   \n",
       "\n",
       "                                        subjects_ids  width  height  depth  \n",
       "0  [97, 269, 339, 443, 296, 82, 68, 30, 372, 204,...   8.30    5.30    0.8  \n",
       "1                                     [290, 416, 59]   8.36    8.28    0.5  \n",
       "2                       [317, 59, 474, 50, 311, 189]   5.40    8.50    0.8  \n",
       "3                                 [59, 474, 50, 311]   6.00    9.00    0.7  \n",
       "4         [279, 133, 430, 254, 50, 72, 50, 425, 327]   5.40    8.50    0.6  "
      ]
     },
     "execution_count": 187,
     "metadata": {},
     "output_type": "execute_result"
    }
   ],
   "source": [
    "books.head()"
   ]
  },
  {
   "cell_type": "code",
   "execution_count": 163,
   "metadata": {},
   "outputs": [],
   "source": [
    "from pypika import Table, Query"
   ]
  },
  {
   "cell_type": "code",
   "execution_count": 211,
   "metadata": {},
   "outputs": [],
   "source": [
    "author_q = Query.into(Table('author'))\n",
    "for i, author in enumerate(authors):\n",
    "    author_q = author_q.insert((i, author))\n",
    "\n",
    "publisher_q = Query.into(Table('publisher'))\n",
    "for i, publisher in enumerate(publishers):\n",
    "    publisher_q = publisher_q.insert((i, publisher))\n",
    "\n",
    "subject_q = Query.into(Table('subject'))\n",
    "for i, subject in enumerate(subjects):\n",
    "    subject_q = subject_q.insert((i, subject))\n",
    "\n",
    "book_q = Query.into(Table('book'))\n",
    "for i, book in enumerate(titles):\n",
    "    book_q = book_q.insert((i, book))\n",
    "\n",
    "parameter_q = Query.into(Table('edition_parameter')) \\\n",
    "    .insert((0, 'lexile')) \\\n",
    "    .insert((1, 'pages')) \\\n",
    "    .insert((2, 'width')) \\\n",
    "    .insert((3, 'height')) \\\n",
    "    .insert((4, 'depth'))\n",
    "\n",
    "#str(author_q) + \"\\n\\n\" + str(publisher_q)"
   ]
  },
  {
   "cell_type": "code",
   "execution_count": 222,
   "metadata": {},
   "outputs": [],
   "source": [
    "edition_q = Query.into(Table('edition'))\n",
    "book_to_subject_q = Query.into(Table('book_to_subject')).columns(['book_id', 'subject_id'])\n",
    "book_to_author_q = Query.into(Table('book_to_author')).columns(['book_id', 'author_id'])\n",
    "parameter_value_q = Query.into(Table('edition_parameter_value')).columns(['parameter_id', 'edition_id', 'value'])\n",
    "\n",
    "for index, row in books.iterrows():\n",
    "    edition_q = edition_q.insert((\n",
    "        index,\n",
    "        row['isbn10'],\n",
    "        row['isbn13'],\n",
    "        row['book_id'],\n",
    "        row['publisher_id'],\n",
    "        row['pubyear'],\n",
    "        row['price'] if not pd.isna(row['price']) else 0\n",
    "    ))\n",
    "    \n",
    "    for s in row['subjects_ids']:\n",
    "        book_to_subject_q = book_to_subject_q.insert((row['book_id'], s))\n",
    "\n",
    "    for a in row['authors_ids']:\n",
    "        book_to_author_q = book_to_author_q.insert((row['book_id'], a))\n",
    "\n",
    "    for param_id, name in enumerate(['lexile', 'pages', 'width', 'height', 'depth']):\n",
    "        if pd.isna(row[name]):\n",
    "            continue\n",
    "        parameter_value_q = parameter_value_q.insert((param_id, index, row[name]))"
   ]
  },
  {
   "cell_type": "code",
   "execution_count": 223,
   "metadata": {},
   "outputs": [],
   "source": [
    "query = str(parameter_q) + \";\\n\\n\" + str(author_q) + \";\\n\\n\" + str(publisher_q) \\\n",
    "     + \";\\n\\n\" + str(subject_q) + \";\\n\\n\" + str(book_q) + \";\\n\\n\" + str(edition_q) \\\n",
    "     + \";\\n\\n\" + str(book_to_subject_q) + \";\\n\\n\" + str(book_to_author_q) + \";\\n\\n\" \\\n",
    "     + str(parameter_value_q) + \";\"\n",
    "\n",
    "text_file = open(\"books_data.sql\", \"w\")\n",
    "text_file.write(query)\n",
    "text_file.close()"
   ]
  }
 ],
 "metadata": {
  "kernelspec": {
   "display_name": "pytorch",
   "language": "python",
   "name": "pytorch"
  },
  "language_info": {
   "codemirror_mode": {
    "name": "ipython",
    "version": 3
   },
   "file_extension": ".py",
   "mimetype": "text/x-python",
   "name": "python",
   "nbconvert_exporter": "python",
   "pygments_lexer": "ipython3",
   "version": "3.7.6"
  }
 },
 "nbformat": 4,
 "nbformat_minor": 2
}
